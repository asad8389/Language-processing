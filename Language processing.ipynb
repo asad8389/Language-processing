{
 "cells": [
  {
   "cell_type": "markdown",
   "metadata": {},
   "source": [
    "# Language Processing"
   ]
  },
  {
   "cell_type": "markdown",
   "metadata": {},
   "source": [
    "First of all import all necessary modules"
   ]
  },
  {
   "cell_type": "code",
   "execution_count": 9,
   "metadata": {},
   "outputs": [],
   "source": [
    "import os\n",
    "import pandas as pd\n",
    "import matplotlib.pyplot as plt\n",
    "from collections import Counter"
   ]
  },
  {
   "cell_type": "markdown",
   "metadata": {},
   "source": [
    "Function for counting the words"
   ]
  },
  {
   "cell_type": "code",
   "execution_count": 10,
   "metadata": {},
   "outputs": [],
   "source": [
    "def count_words(text):\n",
    "    word_count = {}\n",
    "    text = text.lower()\n",
    "    skip = ['.',',',';',':','\"',\"'\"]\n",
    "    for ch in skip:\n",
    "        text =text.replace(ch,'')\n",
    "    for word in text.split(' '):\n",
    "        if word in word_count:\n",
    "            word_count[word]+=1\n",
    "        else:\n",
    "            word_count[word] = 1\n",
    "    return word_count"
   ]
  },
  {
   "cell_type": "markdown",
   "metadata": {},
   "source": [
    "Faster version of previous function"
   ]
  },
  {
   "cell_type": "code",
   "execution_count": 11,
   "metadata": {},
   "outputs": [],
   "source": [
    "def count_words_fast(text):\n",
    "    text = text.lower()\n",
    "    skip = ['.',',','\"',\"'\",';',':']\n",
    "    for ch in skip:\n",
    "        text =text.replace(ch,'')\n",
    "    word_count = Counter(text.split(' '))\n",
    "    return word_count"
   ]
  },
  {
   "cell_type": "markdown",
   "metadata": {},
   "source": [
    "Reading book from a specific path"
   ]
  },
  {
   "cell_type": "code",
   "execution_count": 12,
   "metadata": {},
   "outputs": [],
   "source": [
    "def read_book(file_path):\n",
    "    with open(file_path, encoding = 'utf8') as file:    \n",
    "        #utf-8 encoding is preffered when using data from web\n",
    "        text = file.read()\n",
    "        text =text.replace('\\n','').replace('\\r','')\n",
    "    return text"
   ]
  },
  {
   "cell_type": "markdown",
   "metadata": {},
   "source": [
    "stats for all the words "
   ]
  },
  {
   "cell_type": "code",
   "execution_count": 13,
   "metadata": {},
   "outputs": [],
   "source": [
    "def word_stats(word_count):\n",
    "    unique = len(word_count)\n",
    "    counts = word_count.values()\n",
    "    return (unique, counts) "
   ]
  },
  {
   "cell_type": "markdown",
   "metadata": {},
   "source": [
    "Now start reading all the books of different languages from the \"Books\" folder"
   ]
  },
  {
   "cell_type": "code",
   "execution_count": 15,
   "metadata": {},
   "outputs": [
    {
     "name": "stdout",
     "output_type": "stream",
     "text": [
      "Books\\English\\shakespeare\\A Midsummer Night's Dream.txt\n",
      "Books\\English\\shakespeare\\Hamlet.txt\n",
      "Books\\English\\shakespeare\\Macbeth.txt\n",
      "Books\\English\\shakespeare\\Othello.txt\n",
      "Books\\English\\shakespeare\\Richard III.txt\n",
      "Books\\English\\shakespeare\\Romeo and Juliet.txt\n",
      "Books\\English\\shakespeare\\The Merchant of Venice.txt\n",
      "Books\\French\\chevalier\\L'a╠èle de sable.txt\n",
      "Books\\French\\chevalier\\L'enfer et le paradis de l'autre monde.txt\n",
      "Books\\French\\chevalier\\La capitaine.txt\n",
      "Books\\French\\chevalier\\La fille des indiens rouges.txt\n",
      "Books\\French\\chevalier\\La fille du pirate.txt\n",
      "Books\\French\\chevalier\\Le chasseur noir.txt\n",
      "Books\\French\\chevalier\\Les derniers Iroquois.txt\n",
      "Books\\French\\de Maupassant\\Boule de Suif.txt\n",
      "Books\\French\\de Maupassant\\Claire de Lune.txt\n",
      "Books\\French\\de Maupassant\\Contes de la Becasse.txt\n",
      "Books\\French\\de Maupassant\\L'inutile beautC╠º.txt\n",
      "Books\\French\\de Maupassant\\La Main Gauche.txt\n",
      "Books\\French\\de Maupassant\\La Maison Tellier.txt\n",
      "Books\\French\\de Maupassant\\La petite roque.txt\n",
      "Books\\French\\de Maupassant\\Le Horla.txt\n",
      "Books\\French\\de Maupassant\\┼Æuvres comple╠Çtes de Guy de Maupassant.txt\n",
      "Books\\French\\diderot\\Ceci n'est pas un conte.txt\n",
      "Books\\French\\diderot\\Entretien d'un pa╠êre avec ses enfants.txt\n",
      "Books\\French\\diderot\\L'oiseau blanc.txt\n",
      "Books\\French\\diderot\\Les deux amis de Bourbonne.txt\n",
      "Books\\French\\diderot\\Regrets sur ma vieille robe de chambre.txt\n",
      "Books\\French\\sand\\cora.txt\n",
      "Books\\French\\sand\\Jacques le fataliste et son maa╠ètre.txt\n",
      "Books\\French\\sand\\L' Orco.txt\n",
      "Books\\French\\sand\\La Coupe; Lupo Liverani; Le Toast; Garnier; Le Contrebandier; La Ra╠Çverie O╠ê Paris.txt\n",
      "Books\\French\\sand\\La Marquise.txt\n",
      "Books\\French\\sand\\Le Piccinino.txt\n",
      "Books\\French\\sand\\Le poa╠éme de Myrza.txt\n",
      "Books\\French\\sand\\Mattea.txt\n",
      "Books\\French\\sand\\Metella.txt\n",
      "Books\\French\\sand\\Oeuvres illustrC╠ºes de George Sand.txt\n",
      "Books\\French\\sand\\Pauline.txt\n",
      "Books\\German\\lessing\\der freigeist.txt\n",
      "Books\\German\\lessing\\der junge gelehrte.txt\n",
      "Books\\German\\lessing\\die juden.txt\n",
      "Books\\German\\lessing\\emilia galotti.txt\n",
      "Books\\German\\lessing\\hamburgische dramaturgie.txt\n",
      "Books\\German\\lessing\\minna von barnhelm.txt\n",
      "Books\\German\\lessing\\miss sara sampson.txt\n",
      "Books\\German\\lessing\\philotas.txt\n",
      "Books\\German\\raimund\\Das MN╠âdchen aus der Feenwelt.txt\n",
      "Books\\German\\raimund\\Der Alpenki╠énig und der Menschenfeind.txt\n",
      "Books\\German\\raimund\\Der Barometermacher auf der Zauberinsel.txt\n",
      "Books\\German\\raimund\\Der Diamant des Geisterki╠énigs.txt\n",
      "Books\\German\\raimund\\Der Verschwender.txt\n",
      "Books\\German\\raimund\\Die gefesselte Phantasie.txt\n",
      "Books\\German\\raimund\\Die unheilbringende Krone.txt\n",
      "Books\\German\\raimund\\Moisasurs Zauberfluch.txt\n",
      "Books\\German\\schiller\\Der Neffe als Onkel.txt\n",
      "Books\\German\\schiller\\Der Parasit, oder die Kunst, sein GlA╠èck zu machen.txt\n",
      "Books\\German\\schiller\\die braut von messina.txt\n",
      "Books\\German\\schiller\\Die Huldigung der KA╠ènste.txt\n",
      "Books\\German\\schiller\\Die Jungfrau von Orleans.txt\n",
      "Books\\German\\schiller\\Die Piccolomini.txt\n",
      "Books\\German\\schiller\\Die Verschwi╠érung des Fiesco zu Genua.txt\n",
      "Books\\German\\schiller\\Kabale und Liebe.txt\n",
      "Books\\German\\schiller\\Turandot, Prinzessin von China.txt\n",
      "Books\\German\\schiller\\Wallensteins Lager.txt\n",
      "Books\\German\\schiller\\Wallensteins Tod.txt\n",
      "Books\\German\\shakespeare\\Der Kaufmann von Venedig.txt\n",
      "Books\\German\\shakespeare\\Ein Sommernachtstraum.txt\n",
      "Books\\German\\shakespeare\\Hamlet.txt\n",
      "Books\\German\\shakespeare\\Macbeth.txt\n",
      "Books\\German\\shakespeare\\Othello.txt\n",
      "Books\\German\\shakespeare\\Richard III.txt\n",
      "Books\\German\\shakespeare\\Romeo und Julia.txt\n",
      "Books\\Portuguese\\branco\\A Filha do Arcediago.txt\n",
      "Books\\Portuguese\\branco\\A Neta do Arcediago.txt\n",
      "Books\\Portuguese\\branco\\A Queda d'um Anjo.txt\n",
      "Books\\Portuguese\\branco\\Agulha em Palheiro.txt\n",
      "Books\\Portuguese\\branco\\Amor de Perdic╠ºa╠âo.txt\n",
      "Books\\Portuguese\\branco\\Amor de Salvac╠ºa╠âo.txt\n",
      "Books\\Portuguese\\branco\\Annos de Prosa.txt\n",
      "Books\\Portuguese\\branco\\Carlota Angela.txt\n",
      "Books\\Portuguese\\branco\\Estrellas Funestas.txt\n",
      "Books\\Portuguese\\branco\\Estrellas Prop┬░cias.txt\n",
      "Books\\Portuguese\\branco\\Lagrimas Abena╠üoadas.txt\n",
      "Books\\Portuguese\\branco\\Livro de Consolac╠ºa╠âo.txt\n",
      "Books\\Portuguese\\branco\\O Olho de Vidro.txt\n",
      "Books\\Portuguese\\branco\\O que fazem mulheres.txt\n",
      "Books\\Portuguese\\branco\\O Regicida.txt\n",
      "Books\\Portuguese\\branco\\Scenas Contemporaneas.txt\n",
      "Books\\Portuguese\\dinis\\A Morgadinha dos Cannaviaes.txt\n",
      "Books\\Portuguese\\dinis\\Os fidalgos da Casa Mourisca.txt\n",
      "Books\\Portuguese\\dinis\\Uma fam┬░lia ingleza.txt\n",
      "Books\\Portuguese\\Queir┬ós\\A Cidade e as Serras.txt\n",
      "Books\\Portuguese\\Queir┬ós\\A corresponda╠Çncia de Fradique Mendes.txt\n",
      "Books\\Portuguese\\Queir┬ós\\A Illustre Casa de Ramires.txt\n",
      "Books\\Portuguese\\Queir┬ós\\A Rel┬░quia.txt\n",
      "Books\\Portuguese\\Queir┬ós\\Cartas de Inglaterra.txt\n",
      "Books\\Portuguese\\Queir┬ós\\O crime do padre Amaro.txt\n",
      "Books\\Portuguese\\Queir┬ós\\O Mandarim.txt\n",
      "Books\\Portuguese\\Queir┬ós\\O Primo Bazilio.txt\n",
      "Books\\Portuguese\\Queir┬ós\\Os Maias.txt\n",
      "Books\\Portuguese\\shakespeare\\Hamlet.txt\n"
     ]
    }
   ],
   "source": [
    "stats = pd.DataFrame(columns = ('language', 'author', 'title', 'length', 'unique'))\n",
    "total_count = 1\n",
    "books = 'Books' \n",
    "for language in os.listdir(books):\n",
    "    for author in os.listdir(books+'\\\\'+ language):\n",
    "        for book in os.listdir(books+'\\\\'+ language+'\\\\'+author):\n",
    "            print(books+'\\\\'+ language+'\\\\'+author+'\\\\'+book)\n",
    "            text = read_book(books+'\\\\'+ language+'\\\\'+author+'\\\\'+book)\n",
    "            uniq, count = word_stats(count_words_fast(text))\n",
    "            stats.loc[total_count] = language, author, book, sum(count), uniq\n",
    "            total_count += 1"
   ]
  },
  {
   "cell_type": "markdown",
   "metadata": {},
   "source": [
    "### Now lets get some interpretation from our provided data"
   ]
  },
  {
   "cell_type": "code",
   "execution_count": 17,
   "metadata": {},
   "outputs": [
    {
     "data": {
      "image/png": "[encoded data removed]",
      "text/plain": [
       "<Figure size 720x720 with 1 Axes>"
      ]
     },
     "metadata": {
      "needs_background": "light"
     },
     "output_type": "display_data"
    }
   ],
   "source": [
    "plt.figure(figsize = (10,10))\n",
    "subset = stats[stats.language == 'English']\n",
    "plt.loglog(subset.length, subset.unique, 'o', label = 'English', color ='crimson')\n",
    "\n",
    "subset = stats[stats.language == 'French']\n",
    "plt.loglog(subset.length, subset.unique, 'o', label = 'French', color ='forestgreen')\n",
    "\n",
    "subset = stats[stats.language == 'German']\n",
    "plt.loglog(subset.length, subset.unique, 'o', label = 'German', color ='orange')\n",
    "\n",
    "subset = stats[stats.language == 'Portuguese']\n",
    "plt.loglog(subset.length, subset.unique, 'o', label = 'Portuguese', color ='blueviolet')\n",
    "\n",
    "plt.legend()\n",
    "plt.xlabel('Length of book')\n",
    "plt.ylabel('No of Unique words')\n",
    "plt.savefig('lang_stat_plot.pdf')"
   ]
  }
 ],
 "metadata": {
  "kernelspec": {
   "display_name": "Python 3",
   "language": "python",
   "name": "python3"
  },
  "language_info": {
   "codemirror_mode": {
    "name": "ipython",
    "version": 3
   },
   "file_extension": ".py",
   "mimetype": "text/x-python",
   "name": "python",
   "nbconvert_exporter": "python",
   "pygments_lexer": "ipython3",
   "version": "3.8.5"
  }
 },
 "nbformat": 4,
 "nbformat_minor": 4
}
